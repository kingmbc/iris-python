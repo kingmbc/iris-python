{
 "cells": [
  {
   "cell_type": "code",
   "execution_count": 2,
   "metadata": {},
   "outputs": [],
   "source": [
    "from __future__ import print_function\n",
    "from builtins import range\n",
    "\n",
    "\"\"\"\n",
    "SECTION 1 : Load and setup data for training\n",
    "\n",
    "the datasets separated in two files from originai datasets:\n",
    "iris_train.csv = datasets for training purpose, 80% from the original data\n",
    "iris_test.csv  = datasets for testing purpose, 20% from the original data\n",
    "\"\"\"\n",
    "import pandas as pd\n",
    "\n",
    "#load\n",
    "datatrain = pd.read_csv('../Datasets/iris/iris_train.csv')\n",
    "\n",
    "#change string value to numeric\n",
    "datatrain.loc[datatrain['species']=='Iris-setosa', 'species']=0\n",
    "datatrain.loc[datatrain['species']=='Iris-versicolor', 'species']=1\n",
    "datatrain.loc[datatrain['species']=='Iris-virginica', 'species']=2\n",
    "datatrain = datatrain.apply(pd.to_numeric)\n",
    "\n",
    "#change dataframe to array\n",
    "datatrain_array = datatrain.values\n",
    "\n",
    "#split x and y (feature and target)\n",
    "xtrain = datatrain_array[:,:4]\n",
    "ytrain = datatrain_array[:,4]"
   ]
  },
  {
   "cell_type": "code",
   "execution_count": 6,
   "metadata": {},
   "outputs": [
    {
     "data": {
      "text/plain": [
       "array([[5.1, 3.4, 1.5, 0.2, 0. ],\n",
       "       [6.3, 2.5, 5. , 1.9, 2. ],\n",
       "       [5.9, 3. , 4.2, 1.5, 1. ],\n",
       "       [5.7, 2.6, 3.5, 1. , 1. ]])"
      ]
     },
     "execution_count": 6,
     "metadata": {},
     "output_type": "execute_result"
    }
   ],
   "source": [
    "datatrain_array[:4]"
   ]
  },
  {
   "cell_type": "code",
   "execution_count": 7,
   "metadata": {},
   "outputs": [
    {
     "name": "stdout",
     "output_type": "stream",
     "text": [
      "(120, 4)\n",
      "(120,)\n"
     ]
    }
   ],
   "source": [
    "print(xtrain.shape)\n",
    "print(ytrain.shape)"
   ]
  },
  {
   "cell_type": "code",
   "execution_count": 8,
   "metadata": {},
   "outputs": [
    {
     "name": "stdout",
     "output_type": "stream",
     "text": [
      "Epoch [1/500] Loss: 1.2674\n",
      "Epoch [51/500] Loss: 1.0102\n",
      "Epoch [101/500] Loss: 0.8903\n",
      "Epoch [151/500] Loss: 0.7676\n",
      "Epoch [201/500] Loss: 0.6616\n",
      "Epoch [251/500] Loss: 0.5830\n",
      "Epoch [301/500] Loss: 0.5266\n",
      "Epoch [351/500] Loss: 0.4841\n",
      "Epoch [401/500] Loss: 0.4499\n",
      "Epoch [451/500] Loss: 0.4205\n"
     ]
    }
   ],
   "source": [
    "\"\"\"\n",
    "SECTION 2 : Build and Train Model\n",
    "\n",
    "Multilayer perceptron model, with one hidden layer.\n",
    "input layer : 4 neuron, represents the feature of Iris\n",
    "hidden layer : 10 neuron, activation using ReLU\n",
    "output layer : 3 neuron, represents the class of Iris\n",
    "\n",
    "optimizer = stochastic gradient descent with no batch-size\n",
    "loss function = categorical cross entropy\n",
    "learning rate = 0.01\n",
    "epoch = 500\n",
    "\"\"\"\n",
    "\n",
    "import torch\n",
    "import torch.nn as nn\n",
    "import torch.nn.functional as F\n",
    "from torch.autograd import Variable\n",
    "torch.manual_seed(1234)\n",
    "\n",
    "#hyperparameters\n",
    "hl = 10\n",
    "lr = 0.01\n",
    "num_epoch = 500\n",
    "num_feature=4\n",
    "num_class=3\n",
    "\n",
    "#build model\n",
    "class Net(nn.Module):\n",
    "\n",
    "    def __init__(self):\n",
    "        super(Net, self).__init__()\n",
    "        self.fc1 = nn.Linear(num_feature, hl)\n",
    "        self.fc2 = nn.Linear(hl, num_class)\n",
    "\n",
    "    def forward(self, x):\n",
    "        x = F.relu(self.fc1(x))\n",
    "        x = self.fc2(x)\n",
    "        return x\n",
    "net = Net()\n",
    "\n",
    "#choose optimizer and loss function\n",
    "criterion = nn.CrossEntropyLoss()\n",
    "optimizer = torch.optim.SGD(net.parameters(), lr=lr)\n",
    "\n",
    "#train\n",
    "for epoch in range(num_epoch):\n",
    "    X = Variable(torch.Tensor(xtrain).float())\n",
    "    Y = Variable(torch.Tensor(ytrain).long())\n",
    "\n",
    "    #feedforward - backprop\n",
    "    optimizer.zero_grad()\n",
    "    out = net(X)\n",
    "    loss = criterion(out, Y)\n",
    "    loss.backward()\n",
    "    optimizer.step()\n",
    "\n",
    "    if (epoch) % 50 == 0:\n",
    "        print ('Epoch [%d/%d] Loss: %.4f' \n",
    "                   %(epoch+1, num_epoch, loss.item()))"
   ]
  },
  {
   "cell_type": "code",
   "execution_count": 1,
   "metadata": {},
   "outputs": [
    {
     "name": "stdout",
     "output_type": "stream",
     "text": [
      "Epoch [1/500] Loss: 1.2674\n",
      "Epoch [51/500] Loss: 1.0102\n",
      "Epoch [101/500] Loss: 0.8903\n",
      "Epoch [151/500] Loss: 0.7676\n",
      "Epoch [201/500] Loss: 0.6616\n",
      "Epoch [251/500] Loss: 0.5830\n",
      "Epoch [301/500] Loss: 0.5266\n",
      "Epoch [351/500] Loss: 0.4841\n",
      "Epoch [401/500] Loss: 0.4499\n",
      "Epoch [451/500] Loss: 0.4205\n",
      "Accuracy of the network 100 %\n"
     ]
    }
   ],
   "source": [
    "\"\"\"\n",
    "SECTION 3 : Testing model\n",
    "\"\"\"\n",
    "#load\n",
    "datatest = pd.read_csv('../Datasets/iris/iris_test.csv')\n",
    "\n",
    "#change string value to numeric\n",
    "datatest.loc[datatest['species']=='Iris-setosa', 'species']=0\n",
    "datatest.loc[datatest['species']=='Iris-versicolor', 'species']=1\n",
    "datatest.loc[datatest['species']=='Iris-virginica', 'species']=2\n",
    "datatest = datatest.apply(pd.to_numeric)\n",
    "\n",
    "#change dataframe to array\n",
    "datatest_array = datatest.values\n",
    "\n",
    "#split x and y (feature and target)\n",
    "xtest = datatest_array[:,:4]\n",
    "ytest = datatest_array[:,4]\n",
    "\n",
    "#get prediction\n",
    "X = Variable(torch.Tensor(xtest).float())\n",
    "Y = torch.Tensor(ytest).long()\n",
    "out = net(X)\n",
    "_, predicted = torch.max(out.data, 1)\n",
    "\n",
    "#get accuration\n",
    "print('Accuracy of the network %d %%' % (100 * torch.sum(Y==predicted) / 30))"
   ]
  },
  {
   "cell_type": "code",
   "execution_count": null,
   "metadata": {},
   "outputs": [],
   "source": []
  }
 ],
 "metadata": {
  "kernelspec": {
   "display_name": "Python 3",
   "language": "python",
   "name": "python3"
  },
  "language_info": {
   "codemirror_mode": {
    "name": "ipython",
    "version": 3
   },
   "file_extension": ".py",
   "mimetype": "text/x-python",
   "name": "python",
   "nbconvert_exporter": "python",
   "pygments_lexer": "ipython3",
   "version": "3.6.9"
  }
 },
 "nbformat": 4,
 "nbformat_minor": 4
}
